{
 "cells": [
  {
   "cell_type": "code",
   "execution_count": null,
   "metadata": {},
   "outputs": [],
   "source": [
    "def exchange(a,b):\n",
    "    a,b=b,a\n",
    "    return a,b\n",
    "A = int(input(\"input first number: \"))\n",
    "B = int(input(\"input second number: \"))\n",
    "C = int(input(\"input third number: \"))\n",
    "if(B>A):A,B = exchange(A,B)\n",
    "if(C>A):A,C = exchange(A,C)\n",
    "if(C>B):B,C = exchange(B,C)\n",
    "print(str(A)+' , '+str(B)+' , '+str(C))"
   ]
  },
  {
   "cell_type": "code",
   "execution_count": null,
   "metadata": {},
   "outputs": [],
   "source": [
    "A = int(input(\"input first number: \"))\n",
    "B = int(input(\"input second number: \"))\n",
    "C = int(input(\"input third number: \"))\n",
    "if(B>A):\n",
    "    A,B=B,A\n",
    "if(C>A):\n",
    "    A,C=C,A\n",
    "if(C>B):\n",
    "    B,C=C,B\n",
    "print(str(A)+' , '+str(B)+' , '+str(C))"
   ]
  },
  {
   "cell_type": "code",
   "execution_count": null,
   "metadata": {},
   "outputs": [],
   "source": []
  },
  {
   "cell_type": "code",
   "execution_count": null,
   "metadata": {},
   "outputs": [],
   "source": []
  },
  {
   "cell_type": "code",
   "execution_count": null,
   "metadata": {},
   "outputs": [],
   "source": []
  }
 ],
 "metadata": {
  "kernelspec": {
   "display_name": "Python 3",
   "language": "python",
   "name": "python3"
  },
  "language_info": {
   "codemirror_mode": {
    "name": "ipython",
    "version": 3
   },
   "file_extension": ".py",
   "mimetype": "text/x-python",
   "name": "python",
   "nbconvert_exporter": "python",
   "pygments_lexer": "ipython3",
   "version": "3.6.5"
  }
 },
 "nbformat": 4,
 "nbformat_minor": 2
}
