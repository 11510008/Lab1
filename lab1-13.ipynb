{
 "cells": [
  {
   "cell_type": "code",
   "execution_count": 14,
   "metadata": {},
   "outputs": [
    {
     "name": "stdout",
     "output_type": "stream",
     "text": [
      "['Charles', 'Martina', 'Michael', 'Florence', 'Eli']\n",
      "['Martina', 'Michael', 'Florence']\n",
      "['Charles', 'Martina']\n",
      "['Michael', 'Florence', 'Eli']\n",
      "['Michael', 'Florence']\n"
     ]
    }
   ],
   "source": [
    "players = ['charles','martina','michael','florence','eli']\n",
    "list_name =[]\n",
    "for i in range(len(players)):\n",
    "    name=players[i]\n",
    "    name=name.title()\n",
    "    list_name.append(name)\n",
    "print(list_name)\n",
    "print(list_name[1:4])\n",
    "print(list_name[:2])\n",
    "print(list_name[2:])\n",
    "print(list_name[-3:-1])"
   ]
  },
  {
   "cell_type": "code",
   "execution_count": null,
   "metadata": {},
   "outputs": [],
   "source": []
  }
 ],
 "metadata": {
  "kernelspec": {
   "display_name": "Python 3",
   "language": "python",
   "name": "python3"
  },
  "language_info": {
   "codemirror_mode": {
    "name": "ipython",
    "version": 3
   },
   "file_extension": ".py",
   "mimetype": "text/x-python",
   "name": "python",
   "nbconvert_exporter": "python",
   "pygments_lexer": "ipython3",
   "version": "3.6.5"
  }
 },
 "nbformat": 4,
 "nbformat_minor": 2
}
